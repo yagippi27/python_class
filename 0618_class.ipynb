{
 "cells": [
  {
   "cell_type": "code",
   "execution_count": null,
   "metadata": {},
   "outputs": [],
   "source": [
    "## 02-8 ))) 자료형의 값을 저장하는 공간 변수 (pp. 111 ~ 115)\n",
    "## 02-3 ))) 리스트 자료형 (pp. 77 ~ 92)\n",
    "## 03-3 ))) for문 (pp. 141 ~ 148)"
   ]
  },
  {
   "cell_type": "code",
   "execution_count": null,
   "metadata": {},
   "outputs": [],
   "source": [
    "## 백준 문제 풀기\n",
    "\n"
   ]
  },
  {
   "cell_type": "code",
   "execution_count": null,
   "metadata": {},
   "outputs": [],
   "source": [
    "## 반복문 - 15552(빠른 A+B)\n",
    "## https://www.acmicpc.net/problem/15552\n"
   ]
  },
  {
   "cell_type": "code",
   "execution_count": null,
   "metadata": {},
   "outputs": [],
   "source": [
    "import sys\n",
    "n = int(sys.stdin.readline())\n",
    "for i in range(n):\n",
    "    A, B = map(int, sys.stdin.readline().split())\n",
    "    print(A+B)"
   ]
  }
 ],
 "metadata": {
  "kernelspec": {
   "display_name": "base",
   "language": "python",
   "name": "python3"
  },
  "language_info": {
   "name": "python",
   "version": "2021.11.-1"
  }
 },
 "nbformat": 4,
 "nbformat_minor": 2
}
