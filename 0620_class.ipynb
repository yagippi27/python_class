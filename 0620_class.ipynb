{
 "cells": [
  {
   "cell_type": "code",
   "execution_count": null,
   "metadata": {},
   "outputs": [],
   "source": [
    "## 2024.06.20\n",
    "## 1. 백준 문제 같이 보기\n",
    "## 2. idx와 리스트 값 동시에 접근하는 방법 배우기\n",
    "## 3. 딕셔너리, 집합, 불린 자료형 배우기\n",
    "## 4. 함수 살짝 맛보기\n",
    "## 5. 다음에 만나요~ (숙제는 없으나... )"
   ]
  },
  {
   "cell_type": "code",
   "execution_count": null,
   "metadata": {},
   "outputs": [],
   "source": [
    "dict1 = {\"과자\": \"칸쵸\"}\n",
    "# dict2 = dict(영화=\"인사이드아웃\")\n",
    "# dict3 = dict(1=30)"
   ]
  },
  {
   "cell_type": "code",
   "execution_count": null,
   "metadata": {},
   "outputs": [],
   "source": [
    "f\"\" ## 3.6이상만...\n"
   ]
  },
  {
   "cell_type": "code",
   "execution_count": null,
   "metadata": {},
   "outputs": [],
   "source": [
    "dict = {1: 30}"
   ]
  },
  {
   "cell_type": "code",
   "execution_count": null,
   "metadata": {},
   "outputs": [],
   "source": [
    "dict"
   ]
  },
  {
   "cell_type": "code",
   "execution_count": null,
   "metadata": {},
   "outputs": [],
   "source": [
    "dict1[\"초밥\"]=\"참치\""
   ]
  },
  {
   "cell_type": "code",
   "execution_count": null,
   "metadata": {},
   "outputs": [],
   "source": [
    "del dict1[\"초밥\"]"
   ]
  },
  {
   "cell_type": "code",
   "execution_count": null,
   "metadata": {},
   "outputs": [],
   "source": [
    "dict1.keys()\n"
   ]
  },
  {
   "cell_type": "code",
   "execution_count": null,
   "metadata": {},
   "outputs": [],
   "source": [
    "dict1.values()\n"
   ]
  },
  {
   "cell_type": "code",
   "execution_count": null,
   "metadata": {},
   "outputs": [],
   "source": [
    "dict1[\"음료수\"]"
   ]
  },
  {
   "cell_type": "code",
   "execution_count": null,
   "metadata": {},
   "outputs": [],
   "source": [
    "t = (1,2,3)\n"
   ]
  },
  {
   "cell_type": "code",
   "execution_count": null,
   "metadata": {},
   "outputs": [],
   "source": [
    "## __add__ -> +\n",
    "t+(1"
   ]
  },
  {
   "cell_type": "code",
   "execution_count": null,
   "metadata": {},
   "outputs": [],
   "source": [
    "dict1.get(\"음료수\", \"잉 없네\")"
   ]
  },
  {
   "cell_type": "code",
   "execution_count": null,
   "metadata": {},
   "outputs": [],
   "source": [
    "dict1.items()"
   ]
  },
  {
   "cell_type": "code",
   "execution_count": null,
   "metadata": {},
   "outputs": [],
   "source": [
    "{\"과자\": \"칸쵸\", \"과자\":30}"
   ]
  },
  {
   "cell_type": "code",
   "execution_count": null,
   "metadata": {},
   "outputs": [],
   "source": [
    "for key, value in dict1.items():\n",
    "    print(f\"좋아하는 {key}는, {value}입니다\")"
   ]
  },
  {
   "cell_type": "code",
   "execution_count": null,
   "metadata": {},
   "outputs": [],
   "source": [
    "dict2"
   ]
  },
  {
   "cell_type": "code",
   "execution_count": null,
   "metadata": {},
   "outputs": [],
   "source": [
    "t1 = 1,2,3\n",
    "print(t1.insert(1, 0))"
   ]
  },
  {
   "cell_type": "code",
   "execution_count": null,
   "metadata": {},
   "outputs": [],
   "source": [
    "hour, minute = map(int, input().split())\n",
    "H = [h for h in range(0, 24)]\n",
    "M = [m for m in range(0, 60)]\n",
    "\n",
    "if minute >= 45:\n",
    "    print(H[hour], M[minute-45])\n",
    "else:\n",
    "    print(H[hour-1], M[minute-45])"
   ]
  },
  {
   "cell_type": "code",
   "execution_count": null,
   "metadata": {},
   "outputs": [],
   "source": [
    "A, B, C = 2, 2, 4\n",
    "H, M, L = A, B, C"
   ]
  },
  {
   "cell_type": "code",
   "execution_count": 10,
   "metadata": {},
   "outputs": [
    {
     "name": "stdout",
     "output_type": "stream",
     "text": [
      "{'A': 90, 'C': 70}\n",
      "80\n"
     ]
    }
   ],
   "source": [
    "a = {'A':90, 'B':80, 'C':70}\n",
    "result = (a.pop('B'))\n",
    "print(a)\n",
    "print(result)"
   ]
  },
  {
   "cell_type": "code",
   "execution_count": 14,
   "metadata": {},
   "outputs": [
    {
     "data": {
      "text/plain": [
       "[1, 2, 3, 4, 5]"
      ]
     },
     "execution_count": 14,
     "metadata": {},
     "output_type": "execute_result"
    }
   ],
   "source": [
    "N, M= map(int, input().split())\n",
    "line=[x for x in range(1, N+1)]\n",
    "line"
   ]
  },
  {
   "cell_type": "code",
   "execution_count": 43,
   "metadata": {},
   "outputs": [
    {
     "name": "stdout",
     "output_type": "stream",
     "text": [
      "[1, 2, 3, 4, 5]\n"
     ]
    }
   ],
   "source": [
    "i = 1\n",
    "j = 2\n",
    "N = 5\n",
    "line=[x for x in range(1, N+1)]\n",
    "print(line)\n"
   ]
  },
  {
   "cell_type": "code",
   "execution_count": 47,
   "metadata": {},
   "outputs": [
    {
     "data": {
      "text/plain": [
       "[4, 3, 2]"
      ]
     },
     "execution_count": 47,
     "metadata": {},
     "output_type": "execute_result"
    }
   ],
   "source": [
    "line[1:4][::-1]"
   ]
  },
  {
   "cell_type": "code",
   "execution_count": 54,
   "metadata": {},
   "outputs": [
    {
     "name": "stdout",
     "output_type": "stream",
     "text": [
      "4 1 2 3 5\n"
     ]
    }
   ],
   "source": [
    "N, M= map(int, input().split())\n",
    "line=[x for x in range(1, N+1)]\n",
    "for m in range(M):\n",
    "    i, j=map(int, input().split())\n",
    "    if (i == 1):\n",
    "        line=line[i-1:j][::-1]+line[j:N]\n",
    "    else:\n",
    "        line=line[0:i-1]+line[i-1:j][::-1]+line[j:N]\n",
    "print(\" \".join(map(str, line)))"
   ]
  },
  {
   "cell_type": "code",
   "execution_count": 25,
   "metadata": {},
   "outputs": [
    {
     "data": {
      "text/plain": [
       "[2, 1]"
      ]
     },
     "execution_count": 25,
     "metadata": {},
     "output_type": "execute_result"
    }
   ],
   "source": [
    "i = 1\n",
    "j = 2\n",
    "line[::-1]\n",
    "line[j-1-N:i-2-N:-1]\n",
    "# line[i-1:j]"
   ]
  },
  {
   "cell_type": "code",
   "execution_count": 16,
   "metadata": {},
   "outputs": [
    {
     "data": {
      "text/plain": [
       "[5, 4, 3]"
      ]
     },
     "execution_count": 16,
     "metadata": {},
     "output_type": "execute_result"
    }
   ],
   "source": [
    "line[:1:-1]"
   ]
  },
  {
   "cell_type": "code",
   "execution_count": 55,
   "metadata": {},
   "outputs": [
    {
     "ename": "SyntaxError",
     "evalue": "invalid syntax (2311397307.py, line 1)",
     "output_type": "error",
     "traceback": [
      "\u001b[1;36m  Cell \u001b[1;32mIn[55], line 1\u001b[1;36m\u001b[0m\n\u001b[1;33m    [left-1:right] = b_list[right-1-N:left-2-N:-1]\u001b[0m\n\u001b[1;37m           ^\u001b[0m\n\u001b[1;31mSyntaxError\u001b[0m\u001b[1;31m:\u001b[0m invalid syntax\n"
     ]
    }
   ],
   "source": [
    "[left-1:right] = b_list[right-1-N:left-2-N:-1]\n"
   ]
  },
  {
   "cell_type": "code",
   "execution_count": 1,
   "metadata": {},
   "outputs": [
    {
     "name": "stdout",
     "output_type": "stream",
     "text": [
      "3 4 1 2 5\n"
     ]
    }
   ],
   "source": [
    "import sys\n",
    "N, M = map(int, input().split())\n",
    "b_list = [n+1 for n in range(N)]\n",
    "for m in range(M):\n",
    "    left, right = map(int, input().split())\n",
    "    # left = i right = j 1, 2\n",
    "    b_list[left-1:right] = b_list[right-1-N:left-2-N:-1]\n",
    "print(\" \".join(map(str, b_list)))"
   ]
  },
  {
   "cell_type": "code",
   "execution_count": 2,
   "metadata": {},
   "outputs": [],
   "source": [
    "list1 = [1,2,3]\n",
    "list1.pop()\n",
    "\n",
    "dict1= {1:2}\n",
    "\n",
    "\n",
    "\n"
   ]
  },
  {
   "cell_type": "code",
   "execution_count": null,
   "metadata": {},
   "outputs": [],
   "source": [
    "pop(dict1)"
   ]
  },
  {
   "cell_type": "code",
   "execution_count": 3,
   "metadata": {},
   "outputs": [
    {
     "data": {
      "text/plain": [
       "[1, 2]"
      ]
     },
     "execution_count": 3,
     "metadata": {},
     "output_type": "execute_result"
    }
   ],
   "source": [
    "list1"
   ]
  },
  {
   "cell_type": "code",
   "execution_count": null,
   "metadata": {},
   "outputs": [],
   "source": [
    "A, B, C=map(int, input().split())\n",
    "if(A==B==C):\n",
    "    print(10000+A*1000)\n",
    "elif(A==B and A!=C):\n",
    "    print(1000+A*100)\n",
    "elif(A==C and A!=B):\n",
    "    print(1000+A*100)\n",
    "elif(B==C and B!=A):\n",
    "    print(1000+B*100)\n",
    "else:\n",
    "    if not (A >= B): A, B = B, A\n",
    "    if not (A >= C): A, C = C, A\n",
    "    if not (B >= C): B, C = C, B\n",
    "    print(100*A)"
   ]
  },
  {
   "cell_type": "code",
   "execution_count": 1,
   "metadata": {},
   "outputs": [
    {
     "name": "stdout",
     "output_type": "stream",
     "text": [
      "{}\n"
     ]
    }
   ],
   "source": [
    "dict_\n",
    "dict1\n",
    "\n",
    "a = dict()\n",
    "print(a)"
   ]
  },
  {
   "cell_type": "code",
   "execution_count": null,
   "metadata": {},
   "outputs": [],
   "source": [
    "(1,2,3)+tuple([1])"
   ]
  },
  {
   "cell_type": "code",
   "execution_count": null,
   "metadata": {},
   "outputs": [],
   "source": [
    "if H==M==L: 10000+H*3\n",
    "elif H==M:\n",
    "    "
   ]
  },
  {
   "cell_type": "code",
   "execution_count": null,
   "metadata": {},
   "outputs": [],
   "source": [
    "a, b, c = map(int, input().split())\n",
    "if (a==b) & (b==c):\n",
    "    print(10000+a*1000)\n",
    "elif a==b:\n",
    "    print(1000+a*100)\n",
    "elif a==c:\n",
    "    print(1000+a*100)\n",
    "elif b==c:\n",
    "    print(1000+b*100)\n",
    "else:\n",
    "    print(sorted([a,b,c])[-1]*100)\n",
    "    # print(sorted([a,b,c], reverse=True)[0]*100)"
   ]
  },
  {
   "cell_type": "code",
   "execution_count": null,
   "metadata": {},
   "outputs": [],
   "source": [
    "a, b, c = 3,2,3\n",
    "print(sorted([a,b,c]))\n",
    "list_ = [a,b,c]\n",
    "list_.sort()\n",
    "print(list_)"
   ]
  },
  {
   "cell_type": "code",
   "execution_count": null,
   "metadata": {},
   "outputs": [],
   "source": [
    "b = [a,b,c]\n",
    "b.sort()\n",
    "print(b)\n"
   ]
  },
  {
   "cell_type": "code",
   "execution_count": null,
   "metadata": {},
   "outputs": [],
   "source": [
    "list_ = [\"a\", \"b\", \"C\"].sort()\n",
    "print(a)"
   ]
  },
  {
   "cell_type": "code",
   "execution_count": null,
   "metadata": {},
   "outputs": [],
   "source": []
  },
  {
   "cell_type": "code",
   "execution_count": null,
   "metadata": {},
   "outputs": [],
   "source": []
  },
  {
   "cell_type": "code",
   "execution_count": null,
   "metadata": {},
   "outputs": [],
   "source": [
    "A, B, C=map(int, input().split())\n",
    "if(A==B==C):\n",
    "    print(10000+A*1000)\n",
    "if(A==B and A!=C):\n",
    "    print(1000+A*100)\n",
    "if(A==C and A!=B):\n",
    "    print(1000+A*100)\n",
    "if(B==C and B!=A):\n",
    "    print(1000+B*100)\n",
    "if(A!=B and B!=C and A!=C):\n",
    "    if(A>B and A>C):\n",
    "        print(A*100)\n",
    "    if(B>C and B>A):\n",
    "        print(B*100)\n",
    "    if(C>A and C>B):\n",
    "        print(C*100)"
   ]
  },
  {
   "cell_type": "code",
   "execution_count": null,
   "metadata": {},
   "outputs": [],
   "source": [
    "## idx와 리스트 값에 동시에 접근하는 방법\n",
    "\n",
    "int_list = [1,2,3,4]\n",
    "\n",
    "print(\"1. 새로운 변수를 통해 접근\")\n",
    "count = 0\n",
    "for int in int_list:\n",
    "    print(count, int)\n",
    "    count += 1 \n",
    "\n",
    "print(\"2. range를 통해 접근\")\n",
    "for idx in range(len(int_list)):\n",
    "    print(idx, int_list[idx])\n",
    "\n",
    "print(\"3. enumerate를 통해 접근\")\n",
    "for idx, int in enumerate(int_list):\n",
    "    print(idx, int)\n",
    "\n",
    "\n",
    "## 참고\n",
    "## _를 변수로 사용할 수 있음\n",
    "## _의 의미는 값을 무시하고 싶다~라는 의미로 쓰임\n",
    "\n",
    "for _, int in enumerate(int_list):\n",
    "    print(int)\n"
   ]
  },
  {
   "cell_type": "code",
   "execution_count": null,
   "metadata": {},
   "outputs": [],
   "source": [
    "6\n",
    "print(_)"
   ]
  },
  {
   "cell_type": "code",
   "execution_count": null,
   "metadata": {},
   "outputs": [],
   "source": []
  },
  {
   "cell_type": "markdown",
   "metadata": {},
   "source": [
    "https://velog.io/@wjh2012/%ED%8C%8C%EC%9D%B4%EC%8D%AC-%ED%8A%B9%EC%88%98%ED%95%A8%EC%88%98Magic-method"
   ]
  }
 ],
 "metadata": {
  "kernelspec": {
   "display_name": "Python 3",
   "language": "python",
   "name": "python3"
  },
  "language_info": {
   "codemirror_mode": {
    "name": "ipython",
    "version": 3
   },
   "file_extension": ".py",
   "mimetype": "text/x-python",
   "name": "python",
   "nbconvert_exporter": "python",
   "pygments_lexer": "ipython3",
   "version": "3.11.9"
  }
 },
 "nbformat": 4,
 "nbformat_minor": 2
}
