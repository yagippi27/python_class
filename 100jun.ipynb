{
 "cells": [
  {
   "cell_type": "code",
   "execution_count": 6,
   "metadata": {},
   "outputs": [
    {
     "name": "stdout",
     "output_type": "stream",
     "text": [
      "0 13\n"
     ]
    }
   ],
   "source": [
    "A, B = map(int, input().split())\n",
    "C = int(input())\n",
    "\n",
    "H, M = A+C//60, B+C%60\n",
    "\n",
    "if M >= 60: H+=M//60; M%=60\n",
    "if H >= 24: H%=24\n",
    "\n",
    "print(H, M)\n",
    "\n",
    "\n",
    "\n",
    "\n",
    "\n"
   ]
  },
  {
   "cell_type": "code",
   "execution_count": 7,
   "metadata": {},
   "outputs": [
    {
     "name": "stdout",
     "output_type": "stream",
     "text": [
      "파이썬\n",
      "12\n",
      "C\n",
      "17\n"
     ]
    }
   ],
   "source": [
    "a = [\"파이썬\", 12, \"C\", 17]\n",
    "\n",
    "for i in a:\n",
    "    print(i)\n",
    "\n"
   ]
  },
  {
   "cell_type": "code",
   "execution_count": 9,
   "metadata": {},
   "outputs": [
    {
     "name": "stdout",
     "output_type": "stream",
     "text": [
      "0\n",
      "파이썬\n",
      "1\n",
      "12\n",
      "2\n",
      "C\n",
      "3\n",
      "17\n"
     ]
    }
   ],
   "source": [
    "count = 0\n",
    "for i in a:\n",
    "    print(count)\n",
    "    count +=1\n",
    "    print(i)"
   ]
  },
  {
   "cell_type": "code",
   "execution_count": 21,
   "metadata": {},
   "outputs": [
    {
     "name": "stdout",
     "output_type": "stream",
     "text": [
      "bb\n"
     ]
    }
   ],
   "source": [
    "if None:\n",
    "    print('d')\n",
    "else:\n",
    "    print('bb')"
   ]
  },
  {
   "cell_type": "code",
   "execution_count": null,
   "metadata": {},
   "outputs": [],
   "source": []
  }
 ],
 "metadata": {
  "kernelspec": {
   "display_name": "base",
   "language": "python",
   "name": "python3"
  },
  "language_info": {
   "codemirror_mode": {
    "name": "ipython",
    "version": 3
   },
   "file_extension": ".py",
   "mimetype": "text/x-python",
   "name": "python",
   "nbconvert_exporter": "python",
   "pygments_lexer": "ipython3",
   "version": "2021.11.undefined"
  }
 },
 "nbformat": 4,
 "nbformat_minor": 2
}
